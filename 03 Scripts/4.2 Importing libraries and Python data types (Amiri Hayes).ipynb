{
 "cells": [
  {
   "cell_type": "markdown",
   "id": "cba5d3cd",
   "metadata": {},
   "source": [
    "# Contents List\n",
    "\n",
    "- 0.1 Importing Libraries\n",
    "\n",
    "\n",
    "- 0.2 Exercise Examples\n",
    "\n",
    "\n",
    "- 0.3 Python data types - Task(s) 7-10"
   ]
  },
  {
   "cell_type": "markdown",
   "id": "3c15b68c",
   "metadata": {},
   "source": [
    "# 0.1 Importing Libraries"
   ]
  },
  {
   "cell_type": "code",
   "execution_count": 33,
   "id": "31f104fc",
   "metadata": {},
   "outputs": [],
   "source": [
    "# Import libraries\n",
    "import pandas as pd\n",
    "import numpy as np\n",
    "import os"
   ]
  },
  {
   "cell_type": "markdown",
   "id": "c6e5cef7",
   "metadata": {},
   "source": [
    "# 0.2 Exercise Examples"
   ]
  },
  {
   "cell_type": "code",
   "execution_count": 6,
   "id": "d8438517",
   "metadata": {},
   "outputs": [],
   "source": [
    "x = 2"
   ]
  },
  {
   "cell_type": "code",
   "execution_count": 7,
   "id": "1de8edbb",
   "metadata": {},
   "outputs": [
    {
     "data": {
      "text/plain": [
       "2"
      ]
     },
     "execution_count": 7,
     "metadata": {},
     "output_type": "execute_result"
    }
   ],
   "source": [
    "x"
   ]
  },
  {
   "cell_type": "code",
   "execution_count": 8,
   "id": "6c7c3911",
   "metadata": {},
   "outputs": [
    {
     "name": "stdout",
     "output_type": "stream",
     "text": [
      "2\n"
     ]
    }
   ],
   "source": [
    "print(x)"
   ]
  },
  {
   "cell_type": "code",
   "execution_count": 9,
   "id": "5a8c27d5",
   "metadata": {},
   "outputs": [
    {
     "data": {
      "text/plain": [
       "int"
      ]
     },
     "execution_count": 9,
     "metadata": {},
     "output_type": "execute_result"
    }
   ],
   "source": [
    "type(x)"
   ]
  },
  {
   "cell_type": "code",
   "execution_count": 10,
   "id": "76983512",
   "metadata": {},
   "outputs": [],
   "source": [
    "y = 5.678"
   ]
  },
  {
   "cell_type": "code",
   "execution_count": 11,
   "id": "215c55d5",
   "metadata": {},
   "outputs": [
    {
     "data": {
      "text/plain": [
       "float"
      ]
     },
     "execution_count": 11,
     "metadata": {},
     "output_type": "execute_result"
    }
   ],
   "source": [
    "type(y)"
   ]
  },
  {
   "cell_type": "code",
   "execution_count": 12,
   "id": "4434657f",
   "metadata": {},
   "outputs": [],
   "source": [
    "z = 'Brazil' "
   ]
  },
  {
   "cell_type": "code",
   "execution_count": 13,
   "id": "086186b7",
   "metadata": {},
   "outputs": [
    {
     "data": {
      "text/plain": [
       "str"
      ]
     },
     "execution_count": 13,
     "metadata": {},
     "output_type": "execute_result"
    }
   ],
   "source": [
    "type(z)"
   ]
  },
  {
   "cell_type": "code",
   "execution_count": 14,
   "id": "3b1cbb04",
   "metadata": {},
   "outputs": [
    {
     "data": {
      "text/plain": [
       "str"
      ]
     },
     "execution_count": 14,
     "metadata": {},
     "output_type": "execute_result"
    }
   ],
   "source": [
    "type('Mania')"
   ]
  },
  {
   "cell_type": "code",
   "execution_count": 15,
   "id": "80d514d1",
   "metadata": {},
   "outputs": [
    {
     "data": {
      "text/plain": [
       "bool"
      ]
     },
     "execution_count": 15,
     "metadata": {},
     "output_type": "execute_result"
    }
   ],
   "source": [
    "type(True)"
   ]
  },
  {
   "cell_type": "code",
   "execution_count": 16,
   "id": "745e3006",
   "metadata": {},
   "outputs": [
    {
     "data": {
      "text/plain": [
       "bool"
      ]
     },
     "execution_count": 16,
     "metadata": {},
     "output_type": "execute_result"
    }
   ],
   "source": [
    "type(False)"
   ]
  },
  {
   "cell_type": "code",
   "execution_count": 17,
   "id": "e3c063c7",
   "metadata": {},
   "outputs": [
    {
     "name": "stdout",
     "output_type": "stream",
     "text": [
      "2\n"
     ]
    }
   ],
   "source": [
    "print(x)"
   ]
  },
  {
   "cell_type": "code",
   "execution_count": 18,
   "id": "add7bd70",
   "metadata": {},
   "outputs": [
    {
     "data": {
      "text/plain": [
       "6"
      ]
     },
     "execution_count": 18,
     "metadata": {},
     "output_type": "execute_result"
    }
   ],
   "source": [
    "x + 4"
   ]
  },
  {
   "cell_type": "code",
   "execution_count": 19,
   "id": "8d47612b",
   "metadata": {},
   "outputs": [
    {
     "data": {
      "text/plain": [
       "7.678"
      ]
     },
     "execution_count": 19,
     "metadata": {},
     "output_type": "execute_result"
    }
   ],
   "source": [
    "x + y"
   ]
  },
  {
   "cell_type": "code",
   "execution_count": 20,
   "id": "637217c0",
   "metadata": {},
   "outputs": [],
   "source": [
    "x = x + 4"
   ]
  },
  {
   "cell_type": "code",
   "execution_count": 21,
   "id": "152cd939",
   "metadata": {},
   "outputs": [
    {
     "name": "stdout",
     "output_type": "stream",
     "text": [
      "6\n"
     ]
    }
   ],
   "source": [
    "print(x)"
   ]
  },
  {
   "cell_type": "code",
   "execution_count": 22,
   "id": "61da327a",
   "metadata": {},
   "outputs": [],
   "source": [
    "a = 'Hello, '"
   ]
  },
  {
   "cell_type": "code",
   "execution_count": 23,
   "id": "32424bb9",
   "metadata": {},
   "outputs": [],
   "source": [
    "b = 'Marley'"
   ]
  },
  {
   "cell_type": "code",
   "execution_count": 24,
   "id": "a6a267f7",
   "metadata": {},
   "outputs": [
    {
     "data": {
      "text/plain": [
       "'Hello, Marley'"
      ]
     },
     "execution_count": 24,
     "metadata": {},
     "output_type": "execute_result"
    }
   ],
   "source": [
    "a + b "
   ]
  },
  {
   "cell_type": "code",
   "execution_count": 25,
   "id": "7f50eefc",
   "metadata": {},
   "outputs": [],
   "source": [
    "n = 'potato'"
   ]
  },
  {
   "cell_type": "code",
   "execution_count": 26,
   "id": "cf3578b5",
   "metadata": {},
   "outputs": [
    {
     "data": {
      "text/plain": [
       "'potatopotatopotatopotatopotatopotatopotatopotatopotatopotatopotatopotato'"
      ]
     },
     "execution_count": 26,
     "metadata": {},
     "output_type": "execute_result"
    }
   ],
   "source": [
    "n * 12"
   ]
  },
  {
   "cell_type": "code",
   "execution_count": 27,
   "id": "e15c1065",
   "metadata": {},
   "outputs": [
    {
     "data": {
      "text/plain": [
       "False"
      ]
     },
     "execution_count": 27,
     "metadata": {},
     "output_type": "execute_result"
    }
   ],
   "source": [
    "x == y"
   ]
  },
  {
   "cell_type": "code",
   "execution_count": 28,
   "id": "47efa3ea",
   "metadata": {},
   "outputs": [],
   "source": [
    "x = 6"
   ]
  },
  {
   "cell_type": "code",
   "execution_count": 29,
   "id": "ba8404cb",
   "metadata": {},
   "outputs": [
    {
     "name": "stdout",
     "output_type": "stream",
     "text": [
      "5.678\n"
     ]
    }
   ],
   "source": [
    "print(y)"
   ]
  },
  {
   "cell_type": "code",
   "execution_count": 30,
   "id": "f719d3aa",
   "metadata": {},
   "outputs": [
    {
     "name": "stdout",
     "output_type": "stream",
     "text": [
      "6\n"
     ]
    }
   ],
   "source": [
    "print(x)"
   ]
  },
  {
   "cell_type": "code",
   "execution_count": 31,
   "id": "43731965",
   "metadata": {},
   "outputs": [
    {
     "data": {
      "text/plain": [
       "bool"
      ]
     },
     "execution_count": 31,
     "metadata": {},
     "output_type": "execute_result"
    }
   ],
   "source": [
    "type(x == y)"
   ]
  },
  {
   "cell_type": "markdown",
   "id": "026b3346",
   "metadata": {},
   "source": [
    "# 0.3 Python data types - Task(s) 7-10"
   ]
  },
  {
   "cell_type": "code",
   "execution_count": 35,
   "id": "befe4f4f",
   "metadata": {},
   "outputs": [],
   "source": [
    "x = 100"
   ]
  },
  {
   "cell_type": "code",
   "execution_count": 36,
   "id": "5f9e7284",
   "metadata": {},
   "outputs": [
    {
     "data": {
      "text/plain": [
       "100"
      ]
     },
     "execution_count": 36,
     "metadata": {},
     "output_type": "execute_result"
    }
   ],
   "source": [
    "x + x - x"
   ]
  },
  {
   "cell_type": "code",
   "execution_count": 37,
   "id": "3f45f6d4",
   "metadata": {},
   "outputs": [],
   "source": [
    "y = 50"
   ]
  },
  {
   "cell_type": "code",
   "execution_count": 38,
   "id": "e8bb9f31",
   "metadata": {},
   "outputs": [
    {
     "data": {
      "text/plain": [
       "100"
      ]
     },
     "execution_count": 38,
     "metadata": {},
     "output_type": "execute_result"
    }
   ],
   "source": [
    "y + y"
   ]
  },
  {
   "cell_type": "code",
   "execution_count": 39,
   "id": "3d681953",
   "metadata": {},
   "outputs": [],
   "source": [
    "z = 25"
   ]
  },
  {
   "cell_type": "code",
   "execution_count": 40,
   "id": "4a067041",
   "metadata": {},
   "outputs": [
    {
     "data": {
      "text/plain": [
       "100"
      ]
     },
     "execution_count": 40,
     "metadata": {},
     "output_type": "execute_result"
    }
   ],
   "source": [
    "z + z + z + z"
   ]
  },
  {
   "cell_type": "code",
   "execution_count": 41,
   "id": "8f6947cf",
   "metadata": {},
   "outputs": [],
   "source": [
    "a = 5.789"
   ]
  },
  {
   "cell_type": "code",
   "execution_count": 42,
   "id": "e7542dab",
   "metadata": {},
   "outputs": [],
   "source": [
    "b = 45.789"
   ]
  },
  {
   "cell_type": "code",
   "execution_count": 43,
   "id": "b65bb8c7",
   "metadata": {},
   "outputs": [
    {
     "data": {
      "text/plain": [
       "float"
      ]
     },
     "execution_count": 43,
     "metadata": {},
     "output_type": "execute_result"
    }
   ],
   "source": [
    "type(a)"
   ]
  },
  {
   "cell_type": "code",
   "execution_count": 44,
   "id": "37034f52",
   "metadata": {},
   "outputs": [
    {
     "data": {
      "text/plain": [
       "float"
      ]
     },
     "execution_count": 44,
     "metadata": {},
     "output_type": "execute_result"
    }
   ],
   "source": [
    "type(b)"
   ]
  },
  {
   "cell_type": "code",
   "execution_count": 45,
   "id": "d5a39d8a",
   "metadata": {},
   "outputs": [
    {
     "data": {
      "text/plain": [
       "0.12642774465482975"
      ]
     },
     "execution_count": 45,
     "metadata": {},
     "output_type": "execute_result"
    }
   ],
   "source": [
    "a / b"
   ]
  },
  {
   "cell_type": "code",
   "execution_count": 1,
   "id": "0b3c4fdd",
   "metadata": {},
   "outputs": [],
   "source": [
    "c = 'Majestic '"
   ]
  },
  {
   "cell_type": "code",
   "execution_count": 3,
   "id": "0e89b17f",
   "metadata": {},
   "outputs": [],
   "source": [
    "d = 'Gopher'"
   ]
  },
  {
   "cell_type": "code",
   "execution_count": 4,
   "id": "e2490424",
   "metadata": {},
   "outputs": [
    {
     "data": {
      "text/plain": [
       "'Majestic Gopher'"
      ]
     },
     "execution_count": 4,
     "metadata": {},
     "output_type": "execute_result"
    }
   ],
   "source": [
    "c + d"
   ]
  },
  {
   "cell_type": "code",
   "execution_count": 54,
   "id": "85798c0e",
   "metadata": {},
   "outputs": [],
   "source": [
    "e = 'Hot'"
   ]
  },
  {
   "cell_type": "code",
   "execution_count": 56,
   "id": "52d44133",
   "metadata": {},
   "outputs": [],
   "source": [
    "f = 'test'"
   ]
  },
  {
   "cell_type": "code",
   "execution_count": 57,
   "id": "2a456b8a",
   "metadata": {},
   "outputs": [
    {
     "data": {
      "text/plain": [
       "'Hottest'"
      ]
     },
     "execution_count": 57,
     "metadata": {},
     "output_type": "execute_result"
    }
   ],
   "source": [
    "e + f"
   ]
  },
  {
   "cell_type": "code",
   "execution_count": 65,
   "id": "4019ea6d",
   "metadata": {},
   "outputs": [],
   "source": [
    "g = 'I '"
   ]
  },
  {
   "cell_type": "code",
   "execution_count": 66,
   "id": "0422a3a8",
   "metadata": {},
   "outputs": [],
   "source": [
    "h = 'love '"
   ]
  },
  {
   "cell_type": "code",
   "execution_count": 68,
   "id": "a2452466",
   "metadata": {},
   "outputs": [],
   "source": [
    "i = 'R&B.'"
   ]
  },
  {
   "cell_type": "code",
   "execution_count": 69,
   "id": "0c52e34e",
   "metadata": {},
   "outputs": [
    {
     "data": {
      "text/plain": [
       "'I love R&B.'"
      ]
     },
     "execution_count": 69,
     "metadata": {},
     "output_type": "execute_result"
    }
   ],
   "source": [
    "g + h + i"
   ]
  },
  {
   "cell_type": "code",
   "execution_count": 74,
   "id": "eac03e46",
   "metadata": {},
   "outputs": [
    {
     "data": {
      "text/plain": [
       "'Music is therapy.'"
      ]
     },
     "execution_count": 74,
     "metadata": {},
     "output_type": "execute_result"
    }
   ],
   "source": [
    "j = 'Music '\n",
    "k = 'is '\n",
    "l = 'therapy.'\n",
    "j + k + l"
   ]
  }
 ],
 "metadata": {
  "kernelspec": {
   "display_name": "Python 3",
   "language": "python",
   "name": "python3"
  },
  "language_info": {
   "codemirror_mode": {
    "name": "ipython",
    "version": 3
   },
   "file_extension": ".py",
   "mimetype": "text/x-python",
   "name": "python",
   "nbconvert_exporter": "python",
   "pygments_lexer": "ipython3",
   "version": "3.8.8"
  }
 },
 "nbformat": 4,
 "nbformat_minor": 5
}
